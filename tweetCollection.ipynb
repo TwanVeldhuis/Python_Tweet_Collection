{
 "cells": [
  {
   "cell_type": "code",
   "execution_count": 21,
   "id": "81022da0-1be3-4681-a3e1-25f70e2d7436",
   "metadata": {},
   "outputs": [],
   "source": [
    "text_list = ['#worldcup2022', '#worldcup', '#qatarworldcup2022', '#fifaworldcup2022', '#fifaworldcup']\n",
    "text = '#fifaworldcup'\n",
    "since = '2022-12-17'\n",
    "until = '2022-12-18'"
   ]
  },
  {
   "cell_type": "code",
   "execution_count": null,
   "id": "7ea19559-c893-4b4a-8779-f73aeeb0abea",
   "metadata": {},
   "outputs": [],
   "source": [
    "import json\n",
    "import snscrape.modules.twitter as twitter\n",
    "\n",
    "# Setting variables to be used below\n",
    "maxTweets = 100000\n",
    "tweets_list = []\n",
    "\n",
    "# Creating list to append tweet data to\n",
    "search = \"{0} since:{1} until:{2}\".format(text, since, until)\n",
    "\n",
    "# Using TwitterSearchScraper to scrape data and append tweets to list\n",
    "for i, tweet in enumerate(twitter.TwitterSearchScraper(search).get_items()):\n",
    "    tweet_json = json.loads(tweet.json())\n",
    "    if i % 100 == 0:\n",
    "        print(i)\n",
    "        \n",
    "    if i > maxTweets:\n",
    "        break\n",
    "\n",
    "    # Collect the tweet date, id, content and username\n",
    "    tweets_list.append([tweet_json['date'], tweet_json['id'], tweet_json['content'], tweet_json['username']])"
   ]
  },
  {
   "cell_type": "code",
   "execution_count": 23,
   "id": "c96a2087-076b-47bf-b029-383a2d7b3e22",
   "metadata": {},
   "outputs": [],
   "source": [
    "import pandas as pd\n",
    "\n",
    "df = pd.DataFrame(tweets_list, columns = ['date', 'id', 'content', 'username'])"
   ]
  },
  {
   "cell_type": "code",
   "execution_count": 25,
   "id": "16ce0066-1b15-4b7f-b1af-2defb9d85777",
   "metadata": {
    "tags": []
   },
   "outputs": [],
   "source": [
    "df.to_csv('<OUTPUT FILE LOCATION>', index=False)"
   ]
  }
 ],
 "metadata": {
  "kernelspec": {
   "display_name": "Python 3 (ipykernel)",
   "language": "python",
   "name": "python3"
  },
  "language_info": {
   "codemirror_mode": {
    "name": "ipython",
    "version": 3
   },
   "file_extension": ".py",
   "mimetype": "text/x-python",
   "name": "python",
   "nbconvert_exporter": "python",
   "pygments_lexer": "ipython3",
   "version": "3.10.9"
  }
 },
 "nbformat": 4,
 "nbformat_minor": 5
}
